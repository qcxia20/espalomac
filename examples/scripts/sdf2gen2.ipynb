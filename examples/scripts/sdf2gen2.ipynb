{
 "cells": [
  {
   "cell_type": "code",
   "execution_count": 1,
   "metadata": {},
   "outputs": [
    {
     "name": "stderr",
     "output_type": "stream",
     "text": [
      "Warning: importing 'simtk.openmm' is deprecated.  Import 'openmm' instead.\n",
      "Warning: Unable to load toolkit 'OpenEye Toolkit'. The Open Force Field Toolkit does not require the OpenEye Toolkits, and can use RDKit/AmberTools instead. However, if you have a valid license for the OpenEye Toolkits, consider installing them for faster performance and additional file format support: https://docs.eyesopen.com/toolkits/python/quickstart-python/linuxosx.html OpenEye offers free Toolkit licenses for academics: https://www.eyesopen.com/academic-licensing\n"
     ]
    }
   ],
   "source": [
    "# import sys\n",
    "# sys.path[0] = \"/pubhome/qcxia02/work/espalomac\"\n",
    "import os\n",
    "import torch\n",
    "import espaloma as esp\n",
    "from espaloma.graphs.graph import Graph\n",
    "from openff.toolkit.topology import Molecule\n",
    "from rdkit import Chem\n",
    "from pathlib import Path\n",
    "import utils\n"
   ]
  },
  {
   "cell_type": "code",
   "execution_count": 2,
   "metadata": {},
   "outputs": [],
   "source": [
    "UNICON_EXE = \"/pubhome/soft/ZBH2021/unicon/unicon\"\n",
    "CGENFF_EXE = \"/pubhome/qcxia02/soft/cgenff/cgenff\"\n",
    "CHARMM = \"/pubhome/qcxia02/soft/charmm/bin/charmm\"\n",
    "utilspath = \"/pubhome/qcxia02/work/espalomac/examples/scripts/utils\""
   ]
  },
  {
   "cell_type": "code",
   "execution_count": 3,
   "metadata": {},
   "outputs": [],
   "source": [
    "\n",
    "def sdf2xyz(sdffile):\n",
    "    xyzs = []\n",
    "    lines = Path(sdffile).read_text().split(\"\\n\")\n",
    "    for i, line in enumerate(lines):\n",
    "        linesplit = line.split()\n",
    "        if len(linesplit) == 16: # atom xyz lines\n",
    "            xyzs.append([float(linesplit[0]), float(linesplit[1]), float(linesplit[2])])\n",
    "    \n",
    "    return xyzs\n",
    "\n",
    "def reorgxyz(xyzs, atommaplist):\n",
    "    newxyzs = []\n",
    "    for i in atommaplist:\n",
    "        newxyzs.append(xyzs[i])\n",
    "    return newxyzs\n"
   ]
  },
  {
   "cell_type": "code",
   "execution_count": 4,
   "metadata": {},
   "outputs": [
    {
     "name": "stdout",
     "output_type": "stream",
     "text": [
      "[17, 13, 7, 2, 1, 6, 0, 5, 10, 15, 11, 14, 12, 16, 4, 3, 9, 8]\n",
      "[H]c1nc(N([H])c2nc([H])c([H])c([H])n2)n([H])n1\n"
     ]
    }
   ],
   "source": [
    "sdffile = \"/pubhome/qcxia02/dataset/TorsionNet500/TorsionNet500_mm_opt_geometries/fragment_1_1.sdf\"\n",
    "rdmol = Chem.SDMolSupplier(sdffile, removeHs = False)[0]\n",
    "# mol = Molecule.from_rdkit(rdmol,allow_undefined_stereo=True,hydrogens_are_explicit= True)\n",
    "smi = Chem.MolToSmiles(rdmol)\n",
    "atommaplist = list(map(int, rdmol.GetProp(\"_smilesAtomOutputOrder\")[1:-2].split(\",\")))\n",
    "print(atommaplist)\n",
    "print(smi)\n",
    "mol = Molecule.from_smiles(smi,allow_undefined_stereo=True,hydrogens_are_explicit=True)\n"
   ]
  },
  {
   "cell_type": "code",
   "execution_count": 5,
   "metadata": {},
   "outputs": [],
   "source": [
    "for j in range(1,500):\n",
    "    testlist = []\n",
    "    for i in range(1,25):\n",
    "        sdffile = f\"/pubhome/qcxia02/dataset/TorsionNet500/TorsionNet500_mm_opt_geometries/fragment_1_{i}.sdf\"\n",
    "        rdmol = Chem.SDMolSupplier(sdffile, removeHs = False)[0]\n",
    "        smi = Chem.MolToSmiles(rdmol)\n",
    "        atommaplist = list(map(int, rdmol.GetProp(\"_smilesAtomOutputOrder\")[1:-2].split(\",\")))\n",
    "        if i == 1:\n",
    "            testlist.append(atommaplist)\n",
    "        elif atommaplist != testlist[0]:\n",
    "            testlist.append(atommaplist)\n",
    "    if len(testlist) != 1:\n",
    "        print(j)\n",
    "        print(testlist)\n",
    "\n"
   ]
  },
  {
   "cell_type": "code",
   "execution_count": 16,
   "metadata": {},
   "outputs": [
    {
     "name": "stdout",
     "output_type": "stream",
     "text": [
      "tensor([[[-0.8180,  6.3579, -1.2381],\n",
      "         [-1.1602,  5.4520, -0.7545],\n",
      "         [-0.3816,  4.3419, -0.6123],\n",
      "         [-1.1584,  3.4878,  0.0145],\n",
      "         [-0.9575,  2.2279,  0.4326],\n",
      "         [-1.6499,  1.6716,  0.9110],\n",
      "         [ 0.1981,  1.4640,  0.2973],\n",
      "         [ 0.1083,  0.2250,  0.8165],\n",
      "         [ 1.1961, -0.5645,  0.7168],\n",
      "         [ 1.0897, -1.5566,  1.1456],\n",
      "         [ 2.3676, -0.1715,  0.1223],\n",
      "         [ 3.2296, -0.8187,  0.0517],\n",
      "         [ 2.3648,  1.1051, -0.3769],\n",
      "         [ 3.2374,  1.5237, -0.8691],\n",
      "         [ 1.3039,  1.9278, -0.3003],\n",
      "         [-2.3670,  4.0978,  0.2300],\n",
      "         [-3.1887,  3.7245,  0.6853],\n",
      "         [-2.3923,  5.3518, -0.2518]]])\n",
      "torch.Size([24, 18, 3])\n",
      "NodeSpace(data={'h0': tensor([[0., 1., 0.,  ..., 0., 0., 0.],\n",
      "        [0., 0., 0.,  ..., 0., 0., 0.],\n",
      "        [0., 0., 0.,  ..., 0., 0., 0.],\n",
      "        ...,\n",
      "        [0., 0., 0.,  ..., 0., 0., 0.],\n",
      "        [0., 1., 0.,  ..., 0., 0., 0.],\n",
      "        [0., 0., 0.,  ..., 0., 0., 0.]]), 'idxs': tensor([[ 0],\n",
      "        [ 1],\n",
      "        [ 2],\n",
      "        [ 3],\n",
      "        [ 4],\n",
      "        [ 5],\n",
      "        [ 6],\n",
      "        [ 7],\n",
      "        [ 8],\n",
      "        [ 9],\n",
      "        [10],\n",
      "        [11],\n",
      "        [12],\n",
      "        [13],\n",
      "        [14],\n",
      "        [15],\n",
      "        [16],\n",
      "        [17]]), 'xyz': tensor([[[-0.8180,  6.3579, -1.2381],\n",
      "         [-0.8180,  6.3579, -1.2381],\n",
      "         [-0.8180,  6.3579, -1.2381],\n",
      "         ...,\n",
      "         [-0.8180,  6.3579, -1.2381],\n",
      "         [-0.8180,  6.3579, -1.2381],\n",
      "         [-0.8180,  6.3579, -1.2381]],\n",
      "\n",
      "        [[-1.1602,  5.4520, -0.7545],\n",
      "         [-1.1602,  5.4520, -0.7545],\n",
      "         [-1.1602,  5.4520, -0.7545],\n",
      "         ...,\n",
      "         [-1.1602,  5.4520, -0.7545],\n",
      "         [-1.1602,  5.4520, -0.7545],\n",
      "         [-1.1602,  5.4520, -0.7545]],\n",
      "\n",
      "        [[-0.3816,  4.3419, -0.6123],\n",
      "         [-0.3816,  4.3419, -0.6123],\n",
      "         [-0.3816,  4.3419, -0.6123],\n",
      "         ...,\n",
      "         [-0.3816,  4.3419, -0.6123],\n",
      "         [-0.3816,  4.3419, -0.6123],\n",
      "         [-0.3816,  4.3419, -0.6123]],\n",
      "\n",
      "        ...,\n",
      "\n",
      "        [[-2.3670,  4.0978,  0.2300],\n",
      "         [-2.3670,  4.0978,  0.2300],\n",
      "         [-2.3670,  4.0978,  0.2300],\n",
      "         ...,\n",
      "         [-2.3670,  4.0978,  0.2300],\n",
      "         [-2.3670,  4.0978,  0.2300],\n",
      "         [-2.3670,  4.0978,  0.2300]],\n",
      "\n",
      "        [[-3.1887,  3.7245,  0.6853],\n",
      "         [-3.1887,  3.7245,  0.6853],\n",
      "         [-3.1887,  3.7245,  0.6853],\n",
      "         ...,\n",
      "         [-3.1887,  3.7245,  0.6853],\n",
      "         [-3.1887,  3.7245,  0.6853],\n",
      "         [-3.1887,  3.7245,  0.6853]],\n",
      "\n",
      "        [[-2.3923,  5.3518, -0.2518],\n",
      "         [-2.3923,  5.3518, -0.2518],\n",
      "         [-2.3923,  5.3518, -0.2518],\n",
      "         ...,\n",
      "         [-2.3923,  5.3518, -0.2518],\n",
      "         [-2.3923,  5.3518, -0.2518],\n",
      "         [-2.3923,  5.3518, -0.2518]]])})\n",
      "NodeSpace(data={'h0': tensor([[0., 1., 0.,  ..., 0., 0., 0.],\n",
      "        [0., 0., 0.,  ..., 0., 0., 0.],\n",
      "        [0., 0., 0.,  ..., 0., 0., 0.],\n",
      "        ...,\n",
      "        [0., 0., 0.,  ..., 0., 0., 0.],\n",
      "        [0., 1., 0.,  ..., 0., 0., 0.],\n",
      "        [0., 0., 0.,  ..., 0., 0., 0.]]), 'idxs': tensor([[ 0],\n",
      "        [ 1],\n",
      "        [ 2],\n",
      "        [ 3],\n",
      "        [ 4],\n",
      "        [ 5],\n",
      "        [ 6],\n",
      "        [ 7],\n",
      "        [ 8],\n",
      "        [ 9],\n",
      "        [10],\n",
      "        [11],\n",
      "        [12],\n",
      "        [13],\n",
      "        [14],\n",
      "        [15],\n",
      "        [16],\n",
      "        [17]]), 'xyz': tensor([[[-0.8180,  6.3579, -1.2381],\n",
      "         [-0.8180,  6.3579, -1.2381],\n",
      "         [-0.8180,  6.3579, -1.2381],\n",
      "         ...,\n",
      "         [-0.8180,  6.3579, -1.2381],\n",
      "         [-0.8180,  6.3579, -1.2381],\n",
      "         [-0.8180,  6.3579, -1.2381]],\n",
      "\n",
      "        [[-1.1602,  5.4520, -0.7545],\n",
      "         [-1.1602,  5.4520, -0.7545],\n",
      "         [-1.1602,  5.4520, -0.7545],\n",
      "         ...,\n",
      "         [-1.1602,  5.4520, -0.7545],\n",
      "         [-1.1602,  5.4520, -0.7545],\n",
      "         [-1.1602,  5.4520, -0.7545]],\n",
      "\n",
      "        [[-0.3816,  4.3419, -0.6123],\n",
      "         [-0.3816,  4.3419, -0.6123],\n",
      "         [-0.3816,  4.3419, -0.6123],\n",
      "         ...,\n",
      "         [-0.3816,  4.3419, -0.6123],\n",
      "         [-0.3816,  4.3419, -0.6123],\n",
      "         [-0.3816,  4.3419, -0.6123]],\n",
      "\n",
      "        ...,\n",
      "\n",
      "        [[-2.3670,  4.0978,  0.2300],\n",
      "         [-2.3670,  4.0978,  0.2300],\n",
      "         [-2.3670,  4.0978,  0.2300],\n",
      "         ...,\n",
      "         [-2.3670,  4.0978,  0.2300],\n",
      "         [-2.3670,  4.0978,  0.2300],\n",
      "         [-2.3670,  4.0978,  0.2300]],\n",
      "\n",
      "        [[-3.1887,  3.7245,  0.6853],\n",
      "         [-3.1887,  3.7245,  0.6853],\n",
      "         [-3.1887,  3.7245,  0.6853],\n",
      "         ...,\n",
      "         [-3.1887,  3.7245,  0.6853],\n",
      "         [-3.1887,  3.7245,  0.6853],\n",
      "         [-3.1887,  3.7245,  0.6853]],\n",
      "\n",
      "        [[-2.3923,  5.3518, -0.2518],\n",
      "         [-2.3923,  5.3518, -0.2518],\n",
      "         [-2.3923,  5.3518, -0.2518],\n",
      "         ...,\n",
      "         [-2.3923,  5.3518, -0.2518],\n",
      "         [-2.3923,  5.3518, -0.2518],\n",
      "         [-2.3923,  5.3518, -0.2518]]])})\n"
     ]
    }
   ],
   "source": [
    "xyzs = sdf2xyz(sdffile)\n",
    "newxyzs = reorgxyz(xyzs, atommaplist)\n",
    "print(torch.tensor([newxyzs]))\n",
    "print(torch.tensor([newxyzs]*24).shape)\n",
    "# print(torch.tensor([newxyzs]*24).transpose(0,1).shape)\n",
    "print(heterograph.nodes[\"n1\"])\n",
    "heterograph.nodes[\"n1\"].data[\"xyz\"] = torch.tensor([newxyzs]*24).transpose(0,1)\n",
    "print(heterograph.nodes[\"n1\"])\n",
    "\n",
    "\n"
   ]
  },
  {
   "cell_type": "code",
   "execution_count": 3,
   "metadata": {},
   "outputs": [
    {
     "data": {
      "image/png": "[encoded data removed]",
      "text/html": [
       "<table><tr><td colspan=2 style=\"text-align:center\"><image src=\"data:image/png;base64,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\"></td></tr>\n",
       "<tr><th style=\"text-align:right\">Rel_energy_MM</th><td style=\"text-align:left\">14.3889</td></tr>\n",
       "<tr><th style=\"text-align:right\">PSI4_ENERGY</th><td style=\"text-align:left\">-351878.59773685894</td></tr>\n",
       "<tr><th style=\"text-align:right\">TORSION_ATOMS_FRAGMENT</th><td style=\"text-align:left\">1 2 3 4</td></tr>\n",
       "<tr><th style=\"text-align:right\">TORSION_ANGLE</th><td style=\"text-align:left\">195</td></tr>\n",
       "<tr><th style=\"text-align:right\">rel_energy_QM</th><td style=\"text-align:left\">11.081099561648443</td></tr>\n",
       "<tr><th style=\"text-align:right\">num_QM_scan_pts</th><td style=\"text-align:left\">24</td></tr></table>"
      ],
      "text/plain": [
       "<rdkit.Chem.rdchem.Mol at 0x7fffae235b20>"
      ]
     },
     "metadata": {},
     "output_type": "display_data"
    }
   ],
   "source": [
    "display(rdmol)"
   ]
  },
  {
   "cell_type": "code",
   "execution_count": 35,
   "metadata": {},
   "outputs": [
    {
     "data": {
      "image/svg+xml": "<svg xmlns=\"http://www.w3.org/2000/svg\" xmlns:rdkit=\"http://www.rdkit.org/xml\" xmlns:xlink=\"http://www.w3.org/1999/xlink\" version=\"1.1\" baseProfile=\"full\" xml:space=\"preserve\" width=\"500px\" height=\"300px\" viewBox=\"0 0 500 300\">\n<!-- END OF HEADER -->\n<rect style=\"opacity:1.0;fill:#FFFFFF;stroke:none\" width=\"500.0\" height=\"300.0\" x=\"0.0\" y=\"0.0\"> </rect>\n<path class=\"bond-0 atom-0 atom-1\" d=\"M 334.6,32.1 L 318.1,54.8\" style=\"fill:none;fill-rule:evenodd;stroke:#000000;stroke-width:2.0px;stroke-linecap:butt;stroke-linejoin:miter;stroke-opacity:1\"/>\n<path class=\"bond-1 atom-1 atom-2\" d=\"M 318.1,54.8 L 322.7,69.0\" style=\"fill:none;fill-rule:evenodd;stroke:#000000;stroke-width:2.0px;stroke-linecap:butt;stroke-linejoin:miter;stroke-opacity:1\"/>\n<path class=\"bond-1 atom-1 atom-2\" d=\"M 322.7,69.0 L 327.3,83.2\" style=\"fill:none;fill-rule:evenodd;stroke:#0000FF;stroke-width:2.0px;stroke-linecap:butt;stroke-linejoin:miter;stroke-opacity:1\"/>\n<path class=\"bond-2 atom-2 atom-3\" d=\"M 322.7,98.8 L 310.3,107.7\" style=\"fill:none;fill-rule:evenodd;stroke:#0000FF;stroke-width:2.0px;stroke-linecap:butt;stroke-linejoin:miter;stroke-opacity:1\"/>\n<path class=\"bond-2 atom-2 atom-3\" d=\"M 310.3,107.7 L 297.9,116.7\" style=\"fill:none;fill-rule:evenodd;stroke:#000000;stroke-width:2.0px;stroke-linecap:butt;stroke-linejoin:miter;stroke-opacity:1\"/>\n<path class=\"bond-2 atom-2 atom-3\" d=\"M 314.7,95.6 L 306.0,101.9\" style=\"fill:none;fill-rule:evenodd;stroke:#0000FF;stroke-width:2.0px;stroke-linecap:butt;stroke-linejoin:miter;stroke-opacity:1\"/>\n<path class=\"bond-2 atom-2 atom-3\" d=\"M 306.0,101.9 L 297.3,108.2\" style=\"fill:none;fill-rule:evenodd;stroke:#000000;stroke-width:2.0px;stroke-linecap:butt;stroke-linejoin:miter;stroke-opacity:1\"/>\n<path class=\"bond-3 atom-3 atom-4\" d=\"M 297.9,116.7 L 297.9,131.9\" style=\"fill:none;fill-rule:evenodd;stroke:#000000;stroke-width:2.0px;stroke-linecap:butt;stroke-linejoin:miter;stroke-opacity:1\"/>\n<path class=\"bond-3 atom-3 atom-4\" d=\"M 297.9,131.9 L 297.8,147.1\" style=\"fill:none;fill-rule:evenodd;stroke:#0000FF;stroke-width:2.0px;stroke-linecap:butt;stroke-linejoin:miter;stroke-opacity:1\"/>\n<path class=\"bond-4 atom-4 atom-5\" d=\"M 305.7,161.5 L 315.2,167.0\" style=\"fill:none;fill-rule:evenodd;stroke:#0000FF;stroke-width:2.0px;stroke-linecap:butt;stroke-linejoin:miter;stroke-opacity:1\"/>\n<path class=\"bond-4 atom-4 atom-5\" d=\"M 315.2,167.0 L 324.7,172.5\" style=\"fill:none;fill-rule:evenodd;stroke:#000000;stroke-width:2.0px;stroke-linecap:butt;stroke-linejoin:miter;stroke-opacity:1\"/>\n<path class=\"bond-5 atom-4 atom-6\" d=\"M 290.0,161.5 L 276.5,169.3\" style=\"fill:none;fill-rule:evenodd;stroke:#0000FF;stroke-width:2.0px;stroke-linecap:butt;stroke-linejoin:miter;stroke-opacity:1\"/>\n<path class=\"bond-5 atom-4 atom-6\" d=\"M 276.5,169.3 L 262.9,177.1\" style=\"fill:none;fill-rule:evenodd;stroke:#000000;stroke-width:2.0px;stroke-linecap:butt;stroke-linejoin:miter;stroke-opacity:1\"/>\n<path class=\"bond-6 atom-6 atom-7\" d=\"M 262.9,177.1 L 262.9,192.3\" style=\"fill:none;fill-rule:evenodd;stroke:#000000;stroke-width:2.0px;stroke-linecap:butt;stroke-linejoin:miter;stroke-opacity:1\"/>\n<path class=\"bond-6 atom-6 atom-7\" d=\"M 262.9,192.3 L 262.9,207.5\" style=\"fill:none;fill-rule:evenodd;stroke:#0000FF;stroke-width:2.0px;stroke-linecap:butt;stroke-linejoin:miter;stroke-opacity:1\"/>\n<path class=\"bond-6 atom-6 atom-7\" d=\"M 255.7,181.7 L 255.7,192.3\" style=\"fill:none;fill-rule:evenodd;stroke:#000000;stroke-width:2.0px;stroke-linecap:butt;stroke-linejoin:miter;stroke-opacity:1\"/>\n<path class=\"bond-6 atom-6 atom-7\" d=\"M 255.7,192.3 L 255.7,203.0\" style=\"fill:none;fill-rule:evenodd;stroke:#0000FF;stroke-width:2.0px;stroke-linecap:butt;stroke-linejoin:miter;stroke-opacity:1\"/>\n<path class=\"bond-7 atom-7 atom-8\" d=\"M 255.1,221.9 L 241.5,229.7\" style=\"fill:none;fill-rule:evenodd;stroke:#0000FF;stroke-width:2.0px;stroke-linecap:butt;stroke-linejoin:miter;stroke-opacity:1\"/>\n<path class=\"bond-7 atom-7 atom-8\" d=\"M 241.5,229.7 L 228.0,237.5\" style=\"fill:none;fill-rule:evenodd;stroke:#000000;stroke-width:2.0px;stroke-linecap:butt;stroke-linejoin:miter;stroke-opacity:1\"/>\n<path class=\"bond-8 atom-8 atom-9\" d=\"M 228.0,237.5 L 228.0,267.9\" style=\"fill:none;fill-rule:evenodd;stroke:#000000;stroke-width:2.0px;stroke-linecap:butt;stroke-linejoin:miter;stroke-opacity:1\"/>\n<path class=\"bond-9 atom-8 atom-10\" d=\"M 228.0,237.5 L 193.1,217.4\" style=\"fill:none;fill-rule:evenodd;stroke:#000000;stroke-width:2.0px;stroke-linecap:butt;stroke-linejoin:miter;stroke-opacity:1\"/>\n<path class=\"bond-9 atom-8 atom-10\" d=\"M 226.4,228.2 L 202.0,214.1\" style=\"fill:none;fill-rule:evenodd;stroke:#000000;stroke-width:2.0px;stroke-linecap:butt;stroke-linejoin:miter;stroke-opacity:1\"/>\n<path class=\"bond-10 atom-10 atom-11\" d=\"M 193.1,217.4 L 166.3,232.8\" style=\"fill:none;fill-rule:evenodd;stroke:#000000;stroke-width:2.0px;stroke-linecap:butt;stroke-linejoin:miter;stroke-opacity:1\"/>\n<path class=\"bond-11 atom-10 atom-12\" d=\"M 193.1,217.4 L 193.2,177.1\" style=\"fill:none;fill-rule:evenodd;stroke:#000000;stroke-width:2.0px;stroke-linecap:butt;stroke-linejoin:miter;stroke-opacity:1\"/>\n<path class=\"bond-12 atom-12 atom-13\" d=\"M 193.2,177.1 L 166.3,161.5\" style=\"fill:none;fill-rule:evenodd;stroke:#000000;stroke-width:2.0px;stroke-linecap:butt;stroke-linejoin:miter;stroke-opacity:1\"/>\n<path class=\"bond-13 atom-12 atom-14\" d=\"M 193.2,177.1 L 206.7,169.3\" style=\"fill:none;fill-rule:evenodd;stroke:#000000;stroke-width:2.0px;stroke-linecap:butt;stroke-linejoin:miter;stroke-opacity:1\"/>\n<path class=\"bond-13 atom-12 atom-14\" d=\"M 206.7,169.3 L 220.3,161.5\" style=\"fill:none;fill-rule:evenodd;stroke:#0000FF;stroke-width:2.0px;stroke-linecap:butt;stroke-linejoin:miter;stroke-opacity:1\"/>\n<path class=\"bond-13 atom-12 atom-14\" d=\"M 200.9,181.0 L 210.3,175.6\" style=\"fill:none;fill-rule:evenodd;stroke:#000000;stroke-width:2.0px;stroke-linecap:butt;stroke-linejoin:miter;stroke-opacity:1\"/>\n<path class=\"bond-13 atom-12 atom-14\" d=\"M 210.3,175.6 L 219.8,170.1\" style=\"fill:none;fill-rule:evenodd;stroke:#0000FF;stroke-width:2.0px;stroke-linecap:butt;stroke-linejoin:miter;stroke-opacity:1\"/>\n<path class=\"bond-14 atom-3 atom-15\" d=\"M 297.9,116.7 L 285.5,107.7\" style=\"fill:none;fill-rule:evenodd;stroke:#000000;stroke-width:2.0px;stroke-linecap:butt;stroke-linejoin:miter;stroke-opacity:1\"/>\n<path class=\"bond-14 atom-3 atom-15\" d=\"M 285.5,107.7 L 273.1,98.7\" style=\"fill:none;fill-rule:evenodd;stroke:#0000FF;stroke-width:2.0px;stroke-linecap:butt;stroke-linejoin:miter;stroke-opacity:1\"/>\n<path class=\"bond-15 atom-15 atom-16\" d=\"M 257.5,95.6 L 246.2,99.2\" style=\"fill:none;fill-rule:evenodd;stroke:#0000FF;stroke-width:2.0px;stroke-linecap:butt;stroke-linejoin:miter;stroke-opacity:1\"/>\n<path class=\"bond-15 atom-15 atom-16\" d=\"M 246.2,99.2 L 235.0,102.8\" style=\"fill:none;fill-rule:evenodd;stroke:#000000;stroke-width:2.0px;stroke-linecap:butt;stroke-linejoin:miter;stroke-opacity:1\"/>\n<path class=\"bond-16 atom-15 atom-17\" d=\"M 268.5,83.1 L 274.6,64.6\" style=\"fill:none;fill-rule:evenodd;stroke:#0000FF;stroke-width:2.0px;stroke-linecap:butt;stroke-linejoin:miter;stroke-opacity:1\"/>\n<path class=\"bond-17 atom-17 atom-1\" d=\"M 285.6,54.7 L 301.8,54.8\" style=\"fill:none;fill-rule:evenodd;stroke:#0000FF;stroke-width:2.0px;stroke-linecap:butt;stroke-linejoin:miter;stroke-opacity:1\"/>\n<path class=\"bond-17 atom-17 atom-1\" d=\"M 301.8,54.8 L 318.1,54.8\" style=\"fill:none;fill-rule:evenodd;stroke:#000000;stroke-width:2.0px;stroke-linecap:butt;stroke-linejoin:miter;stroke-opacity:1\"/>\n<path class=\"bond-17 atom-17 atom-1\" d=\"M 290.5,62.0 L 301.8,62.0\" style=\"fill:none;fill-rule:evenodd;stroke:#0000FF;stroke-width:2.0px;stroke-linecap:butt;stroke-linejoin:miter;stroke-opacity:1\"/>\n<path class=\"bond-17 atom-17 atom-1\" d=\"M 301.8,62.0 L 313.2,62.0\" style=\"fill:none;fill-rule:evenodd;stroke:#000000;stroke-width:2.0px;stroke-linecap:butt;stroke-linejoin:miter;stroke-opacity:1\"/>\n<path class=\"bond-18 atom-14 atom-6\" d=\"M 235.9,161.5 L 249.4,169.3\" style=\"fill:none;fill-rule:evenodd;stroke:#0000FF;stroke-width:2.0px;stroke-linecap:butt;stroke-linejoin:miter;stroke-opacity:1\"/>\n<path class=\"bond-18 atom-14 atom-6\" d=\"M 249.4,169.3 L 262.9,177.1\" style=\"fill:none;fill-rule:evenodd;stroke:#000000;stroke-width:2.0px;stroke-linecap:butt;stroke-linejoin:miter;stroke-opacity:1\"/>\n<path class=\"atom-0\" d=\"M 335.1 13.6 L 337.4 13.6 L 337.4 20.9 L 346.1 20.9 L 346.1 13.6 L 348.5 13.6 L 348.5 30.7 L 346.1 30.7 L 346.1 22.8 L 337.4 22.8 L 337.4 30.7 L 335.1 30.7 L 335.1 13.6 \" fill=\"#000000\"/>\n<path class=\"atom-2\" d=\"M 326.7 84.5 L 332.3 93.6 Q 332.9 94.5, 333.8 96.1 Q 334.6 97.7, 334.7 97.8 L 334.7 84.5 L 337.0 84.5 L 337.0 101.6 L 334.6 101.6 L 328.6 91.7 Q 327.9 90.6, 327.2 89.2 Q 326.4 87.9, 326.2 87.5 L 326.2 101.6 L 324.0 101.6 L 324.0 84.5 L 326.7 84.5 \" fill=\"#0000FF\"/>\n<path class=\"atom-4\" d=\"M 294.1 148.5 L 299.7 157.5 Q 300.2 158.4, 301.1 160.0 Q 302.0 161.7, 302.1 161.8 L 302.1 148.5 L 304.3 148.5 L 304.3 165.6 L 302.0 165.6 L 296.0 155.7 Q 295.3 154.5, 294.5 153.2 Q 293.8 151.8, 293.6 151.4 L 293.6 165.6 L 291.3 165.6 L 291.3 148.5 L 294.1 148.5 \" fill=\"#0000FF\"/>\n<path class=\"atom-5\" d=\"M 326.0 168.6 L 328.3 168.6 L 328.3 175.9 L 337.1 175.9 L 337.1 168.6 L 339.4 168.6 L 339.4 185.7 L 337.1 185.7 L 337.1 177.8 L 328.3 177.8 L 328.3 185.7 L 326.0 185.7 L 326.0 168.6 \" fill=\"#000000\"/>\n<path class=\"atom-7\" d=\"M 259.1 208.9 L 264.7 217.9 Q 265.3 218.8, 266.2 220.4 Q 267.1 222.0, 267.1 222.1 L 267.1 208.9 L 269.4 208.9 L 269.4 226.0 L 267.1 226.0 L 261.0 216.1 Q 260.3 214.9, 259.6 213.6 Q 258.9 212.2, 258.6 211.8 L 258.6 226.0 L 256.4 226.0 L 256.4 208.9 L 259.1 208.9 \" fill=\"#0000FF\"/>\n<path class=\"atom-9\" d=\"M 221.3 269.3 L 223.6 269.3 L 223.6 276.5 L 232.3 276.5 L 232.3 269.3 L 234.7 269.3 L 234.7 286.4 L 232.3 286.4 L 232.3 278.5 L 223.6 278.5 L 223.6 286.4 L 221.3 286.4 L 221.3 269.3 \" fill=\"#000000\"/>\n<path class=\"atom-11\" d=\"M 151.5 228.9 L 153.9 228.9 L 153.9 236.2 L 162.6 236.2 L 162.6 228.9 L 164.9 228.9 L 164.9 246.0 L 162.6 246.0 L 162.6 238.1 L 153.9 238.1 L 153.9 246.0 L 151.5 246.0 L 151.5 228.9 \" fill=\"#000000\"/>\n<path class=\"atom-13\" d=\"M 151.6 148.3 L 153.9 148.3 L 153.9 155.6 L 162.7 155.6 L 162.7 148.3 L 165.0 148.3 L 165.0 165.5 L 162.7 165.5 L 162.7 157.6 L 153.9 157.6 L 153.9 165.5 L 151.6 165.5 L 151.6 148.3 \" fill=\"#000000\"/>\n<path class=\"atom-14\" d=\"M 224.3 148.4 L 229.9 157.5 Q 230.5 158.4, 231.3 160.0 Q 232.2 161.6, 232.3 161.7 L 232.3 148.4 L 234.6 148.4 L 234.6 165.5 L 232.2 165.5 L 226.2 155.6 Q 225.5 154.4, 224.7 153.1 Q 224.0 151.8, 223.8 151.4 L 223.8 165.5 L 221.6 165.5 L 221.6 148.4 L 224.3 148.4 \" fill=\"#0000FF\"/>\n<path class=\"atom-15\" d=\"M 261.5 84.5 L 267.1 93.5 Q 267.7 94.4, 268.6 96.1 Q 269.5 97.7, 269.5 97.8 L 269.5 84.5 L 271.8 84.5 L 271.8 101.6 L 269.4 101.6 L 263.4 91.7 Q 262.7 90.5, 262.0 89.2 Q 261.3 87.9, 261.0 87.4 L 261.0 101.6 L 258.8 101.6 L 258.8 84.5 L 261.5 84.5 \" fill=\"#0000FF\"/>\n<path class=\"atom-16\" d=\"M 220.3 96.9 L 222.6 96.9 L 222.6 104.2 L 231.4 104.2 L 231.4 96.9 L 233.7 96.9 L 233.7 114.0 L 231.4 114.0 L 231.4 106.1 L 222.6 106.1 L 222.6 114.0 L 220.3 114.0 L 220.3 96.9 \" fill=\"#000000\"/>\n<path class=\"atom-17\" d=\"M 274.0 46.2 L 279.6 55.2 Q 280.2 56.1, 281.1 57.8 Q 281.9 59.4, 282.0 59.5 L 282.0 46.2 L 284.3 46.2 L 284.3 63.3 L 281.9 63.3 L 275.9 53.4 Q 275.2 52.2, 274.5 50.9 Q 273.7 49.6, 273.5 49.1 L 273.5 63.3 L 271.3 63.3 L 271.3 46.2 L 274.0 46.2 \" fill=\"#0000FF\"/>\n</svg>",
      "text/plain": [
       "<IPython.core.display.SVG object>"
      ]
     },
     "metadata": {},
     "output_type": "display_data"
    },
    {
     "name": "stdout",
     "output_type": "stream",
     "text": [
      "[Atom(name=, atomic number=1), Atom(name=, atomic number=6), Atom(name=, atomic number=7), Atom(name=, atomic number=6), Atom(name=, atomic number=7), Atom(name=, atomic number=1), Atom(name=, atomic number=6), Atom(name=, atomic number=7), Atom(name=, atomic number=6), Atom(name=, atomic number=1), Atom(name=, atomic number=6), Atom(name=, atomic number=1), Atom(name=, atomic number=6), Atom(name=, atomic number=1), Atom(name=, atomic number=7), Atom(name=, atomic number=7), Atom(name=, atomic number=1), Atom(name=, atomic number=7)]\n"
     ]
    }
   ],
   "source": [
    "display(mol)\n",
    "print(mol.atoms)"
   ]
  },
  {
   "cell_type": "code",
   "execution_count": 7,
   "metadata": {},
   "outputs": [
    {
     "name": "stdout",
     "output_type": "stream",
     "text": [
      "['g', 'n1', 'n2', 'n3', 'n4', 'n4_improper', 'nonbonded', 'onefour']\n"
     ]
    },
    {
     "name": "stderr",
     "output_type": "stream",
     "text": [
      "/pubhome/qcxia02/miniconda3/envs/espaloma/lib/python3.8/site-packages/dgl/heterograph.py:72: DGLWarning: Recommend creating graphs by `dgl.graph(data)` instead of `dgl.DGLGraph(data)`.\n",
      "  dgl_warning('Recommend creating graphs by `dgl.graph(data)`'\n"
     ]
    }
   ],
   "source": [
    "graph = Graph(mol)\n",
    "heterograph = graph.heterograph\n",
    "print(heterograph.ntypes)\n",
    "# print(heterograph.nodes[\"n1\"].data[\"h0\"][0])"
   ]
  },
  {
   "cell_type": "code",
   "execution_count": 64,
   "metadata": {},
   "outputs": [
    {
     "name": "stdout",
     "output_type": "stream",
     "text": [
      "  \n",
      "======================================================================\n",
      "                              unicon\n",
      "    Universal molecule file converter and sampling (version: 1.4.0)\n",
      "======================================================================\n",
      "  \n",
      " Authored by:    K.Sommer                                       \n",
      " Many thanks to: Prof. M.Rarey and the whole AMD group          \n",
      " For more information visit <http://www.zbh.uni-hamburg.de/unicon>.\n",
      " Supported file formats:\n",
      "   Input:\n",
      "     MOL(*.mol) MOL2(*.mol2) PDB(*.pdb) SDF(*.sdf) SMILES(*.smi *.smiles) PDBx/mmCIF(*.cif *.mcif) InChI(*.inchi)\n",
      "   Output:\n",
      "     MOL2(*.mol2) SDF(*.sdf) SMILES(*.smi *.smiles) INCHI(*.inchi)\n",
      "  \n",
      "  Adding valid file to input: /pubhome/qcxia02/dataset/TorsionNet500/TorsionNet500_mm_opt_geometries/fragment_1_1.sdf\n",
      "  Added 1 input files.\n",
      "  \n",
      "Starting workflow\n",
      "\n",
      "  Entries: 1\n",
      "\n",
      "  Using Entries 1 to 1\n",
      "\n",
      "  Converting molecules.\n",
      "\n",
      "  No coordinate generation, no sampling, just conversion\n",
      "  \n",
      "  Generated 1 molecules (conversion).\n",
      "\n",
      "  Exiting program.\n",
      "\n"
     ]
    },
    {
     "data": {
      "text/plain": [
       "0"
      ]
     },
     "execution_count": 64,
     "metadata": {},
     "output_type": "execute_result"
    }
   ],
   "source": [
    "os.system(f\"{UNICON_EXE} -i {sdffile} -o test.mol2\")\n"
   ]
  },
  {
   "cell_type": "code",
   "execution_count": 71,
   "metadata": {},
   "outputs": [
    {
     "name": "stderr",
     "output_type": "stream",
     "text": [
      "CHARMM General Force Field (CGenFF) program version 2.5.1\n",
      "released August 2021\n",
      "Copyright (C) 2020 SilcBio LLC\n",
      "and University of Maryland, School of Pharmacy. All Rights Reserved.\n",
      "\n",
      "Now processing molecule test ...\n",
      "CHARMM General Force Field (CGenFF) program version 2.5.1\n",
      "released August 2021\n",
      "Copyright (C) 2020 SilcBio LLC\n",
      "and University of Maryland, School of Pharmacy. All Rights Reserved.\n",
      "\n",
      "Now processing molecule test ...\n"
     ]
    },
    {
     "data": {
      "text/plain": [
       "0"
      ]
     },
     "execution_count": 71,
     "metadata": {},
     "output_type": "execute_result"
    }
   ],
   "source": [
    "os.system(f'{CGENFF_EXE} test.mol2 -i mol2 -f test.str')\n",
    "os.system(f'{CGENFF_EXE} test.mol2 -i mol2 -a -f test_all.str')"
   ]
  },
  {
   "cell_type": "code",
   "execution_count": 72,
   "metadata": {},
   "outputs": [],
   "source": [
    "mol2file = \"test.mol2\"\n",
    "mol2lines = Path(mol2file).read_text().split(\"\\n\")\n",
    "crdlines, atomsum = utils.mol2tocrdlines(mol2lines)\n",
    "# print(crdlines)\n",
    "outname = \"test.crd\"\n",
    "utils.writecrdlines(outname, crdlines, atomsum)"
   ]
  },
  {
   "cell_type": "code",
   "execution_count": 74,
   "metadata": {},
   "outputs": [
    {
     "name": "stdout",
     "output_type": "stream",
     "text": [
      " Parameter: WORKDIR <- \"/PUBHOME/QCXIA02/WORK/ESPALOMAC/EXAMPLES/SCRIPTS/UTILS\"\n",
      " Parameter: RESI <- \"TEST\"\n",
      " Parameter: STR <- \"TEST.STR\"\n",
      " Parameter: CRD <- \"TEST.CRD\"\n",
      " Parameter: CGENFF <- \"TRUE\"\n",
      " Parameter: MODCUTOFF <- \"TRUE\"\n"
     ]
    },
    {
     "data": {
      "text/plain": [
       "0"
      ]
     },
     "execution_count": 74,
     "metadata": {},
     "output_type": "execute_result"
    }
   ],
   "source": [
    "# cwd = os.getcwd()\n",
    "cwd = \"/pubhome/qcxia02/work/espalomac/examples/scripts/utils\"\n",
    "os.system(f'{CHARMM} -i {cwd}/energy.inp workdir={cwd} resi=test str=test.str crd=test.crd cgenff:true modcutoff:true -o energy.out')\n"
   ]
  },
  {
   "cell_type": "code",
   "execution_count": 76,
   "metadata": {},
   "outputs": [
    {
     "name": "stdout",
     "output_type": "stream",
     "text": [
      "-208.51868 -209.22281999999998\n"
     ]
    }
   ],
   "source": [
    "totE, totE_nodihe = utils.Cout2E(Path(\"energy.out\"))\n",
    "print(totE, totE_nodihe)\n",
    "Edihe = totE - totE_nodihe\n"
   ]
  },
  {
   "cell_type": "code",
   "execution_count": null,
   "metadata": {},
   "outputs": [],
   "source": [
    "heterograph.nodes[\"n1\"].data[\"xyz\"] = torch.tensor([totElist])\n",
    "heterograph.nodes[\"g\"].data[\"u_charmm_totE\"] = torch.tensor([totElist])\n",
    "heterograph.nodes[\"g\"].data[\"u_charmm_totE_nodihe\"] = torch.tensor([totE_nodihe_list])\n",
    "heterograph.nodes[\"g\"].data[\"u_charmm_Edihe\"] = torch.tensor([Edihe_list])\n",
    "dgl.save_graphs(str(hetgraphfile), [heterograph])\n"
   ]
  },
  {
   "cell_type": "code",
   "execution_count": null,
   "metadata": {},
   "outputs": [],
   "source": [
    "os.system(\"sed -i '2c sss' file\")"
   ]
  },
  {
   "cell_type": "code",
   "execution_count": null,
   "metadata": {},
   "outputs": [],
   "source": []
  }
 ],
 "metadata": {
  "kernelspec": {
   "display_name": "Python 3.8.4 ('espaloma')",
   "language": "python",
   "name": "python3"
  },
  "language_info": {
   "codemirror_mode": {
    "name": "ipython",
    "version": 3
   },
   "file_extension": ".py",
   "mimetype": "text/x-python",
   "name": "python",
   "nbconvert_exporter": "python",
   "pygments_lexer": "ipython3",
   "version": "3.8.4"
  },
  "orig_nbformat": 4,
  "vscode": {
   "interpreter": {
    "hash": "9f32198fb91160d867644c7e68619aab8695cb766eca00ee47707cde90d7ced1"
   }
  }
 },
 "nbformat": 4,
 "nbformat_minor": 2
}
